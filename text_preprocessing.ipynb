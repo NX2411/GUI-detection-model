{
 "cells": [
  {
   "cell_type": "code",
   "execution_count": 3,
   "metadata": {},
   "outputs": [],
   "source": [
    "index_text = 'Index Customs Bulletin and Decisions Vol. 58, No. 38, September 25, 2024 U.S. Customs and Border Protection CBP Decisions CBP No. Page Imposition of Import Restrictions on Archaeological and Ethnological Material of Yemen . . . . . . . . . . . . . . . . . . . 24–15 1 Emergency Import Restrictions Imposed on Categories of Archaeological and Ethnological Material of Ukraine . . . . . 24–16 19 General Notices Page Revocation of Five Ruling Letters and Revocation of Treatment Relating to the Tariff Classification of Electromechanical Oral Hygiene Devices . . . 43 Agency Information Collection Activities: Extension; Establishment of a Bonded Warehouse (Bonded Warehouse Regulations) . . . . . . . . . . . . . . . . . . . . . . . . . . . . . . . . . . . . . 49 Extension; Declaration of Unaccompanied Articles (CBP Form 255) . . . 52 U.S. Court of International Trade Slip Opinions Slip Op. No. Page United States, Plaintiff, v. Katana Racing, Inc. d/b/a Wheel & Tire Distributors, Defendant. . . . . . . . . . . . . . . . . . . . . 24–100 57 Sea Shepherd New Zealand and Sea Shepherd Conservation Society, Plaintiffs, v. United States; Gina M. Raimondo, in her official capacity as Secretary of Commerce; United States Department of Commerce; Janet Coit, in her official capacity as Assistant Administrator of the National Marine Fisheries Service; National Marine Fisheries Service; Janet Yellen, in her official capacity as Secretary of the Treasury; United States Department of the Treasury; Alejandro Mayorkas, in his official capacity as Secretary of Homeland Security; and United States Department of Homeland Security, Defendants, and New Zealand Government, Defendant- Intervenor. . . . . . . . . . . . . . . . . . . . . . . . . . . . . . . . 24–101 74Sea Shepherd New Zealand and Sea Shepherd Conservation Society, Plaintiffs, v. United States; Gina M. Raimondo, in her official capacity as Secretary of Commerce; United States Department of Commerce; Janet Coit, in her official capacity as Assistant Administrator of the National Marine Fisheries Service; National Marine Fisheries Service; Janet Yellen, in her official capacity as Secretary of the Treasury; United States Department of the Treasury; Alejandro Mayorkas, in his official capacity as Secretary of Homeland Security; and United States Department of Homeland Security, Defendants, and New Zealand Government, Defendant- Intervenor. . . . . . . . . . . . . . . . . . . . . . . . . . . . . . . . 24–101 84 U.S. G.P.O.: 2024—427-373/30094'"
   ]
  },
  {
   "cell_type": "code",
   "execution_count": 5,
   "metadata": {},
   "outputs": [
    {
     "name": "stdout",
     "output_type": "stream",
     "text": [
      "페이지별 내용:\n",
      "\n",
      "페이지 19:\n",
      "제목: Imposition of Import Restrictions on Archaeological and Ethnological Material of Yemen . 24–15 Emergency Import Restrictions Imposed on Categories of Archaeological and Ethnological Material of Ukraine . . 24–16 General Notices\n",
      "\n",
      "페이지 52:\n",
      "제목: Revocation of Five Ruling Letters and Revocation of Treatment Relating to the Tariff Classification of Electromechanical Oral Hygiene Devices Agency Information Collection Activities: Extension; Establishment of a Bonded Warehouse (Bonded Warehouse Regulations) . Extension; Declaration of Unaccompanied Articles (CBP Form 255) U.S. Court of International Trade Slip Opinions Slip Op. No.\n",
      "\n",
      "페이지 84:\n",
      "제목: United States, Plaintiff, v. Katana Racing, Inc. d/b/a Wheel & Tire Distributors, Defendant 24–100 Sea Shepherd New Zealand and Sea Shepherd Conservation Society, Plaintiffs, v. United States; Gina M. Raimondo, in her official capacity as Secretary of Commerce; United States Department of Commerce; Janet Coit, in her official capacity as Assistant Administrator of the National Marine Fisheries Service; National Marine Fisheries Service; Janet Yellen, in her official capacity as Secretary of the Treasury; United States Department of the Treasury; Alejandro Mayorkas, in his official capacity as Secretary of Homeland Security; and United States Department of Homeland Security, Defendants, and New Zealand Government, Defendant- Intervenor . . 24–101 74Sea Shepherd New Zealand and Sea Shepherd Conservation Society, Plaintiffs, v. United States; Gina M. Raimondo, in her official capacity as Secretary of Commerce; United States Department of Commerce; Janet Coit, in her official capacity as Assistant Administrator of the National Marine Fisheries Service; National Marine Fisheries Service; Janet Yellen, in her official capacity as Secretary of the Treasury; United States Department of the Treasury; Alejandro Mayorkas, in his official capacity as Secretary of Homeland Security; and United States Department of Homeland Security, Defendants, and New Zealand Government, Defendant- Intervenor . . 24–101 U.S. G.P.O.: 2024—427-373/30094\n",
      "\n",
      "페이지 2024:\n",
      "제목: Index Customs Bulletin and Decisions Vol. 58, No. 38, September 25, U.S. Customs and Border Protection CBP Decisions CBP No.\n"
     ]
    }
   ],
   "source": [
    "def extract_page_ranges(text):\n",
    "    # Page 라는 단어가 나오는 위치를 기준으로 항목들을 분리\n",
    "    entries = []\n",
    "    # . . . 으로 된 부분을 공백으로 대체\n",
    "    text = text.replace('. . .', ' ')\n",
    "    \n",
    "    # 'Page'나 숫자로 끝나는 부분을 찾아서 처리\n",
    "    sections = text.split('Page')\n",
    "    \n",
    "    for section in sections:\n",
    "        if not section.strip():\n",
    "            continue\n",
    "            \n",
    "        # 숫자를 찾음\n",
    "        numbers = []\n",
    "        words = section.split()\n",
    "        for word in words:\n",
    "            # 숫자만 추출 (마침표 제거)\n",
    "            clean_word = word.strip('.')\n",
    "            if clean_word.isdigit():\n",
    "                numbers.append(int(clean_word))\n",
    "        \n",
    "        if numbers:  # 숫자가 있는 경우만 처리\n",
    "            # 마지막 숫자는 페이지 번호\n",
    "            page = numbers[-1]\n",
    "            # 제목은 숫자를 제외한 나머지 텍스트\n",
    "            title = ' '.join([w for w in words if not w.strip('.').isdigit()])\n",
    "            \n",
    "            entries.append({\n",
    "                'page': page,\n",
    "                'title': title.strip()\n",
    "            })\n",
    "    \n",
    "    return entries\n",
    "\n",
    "# 인덱스 텍스트에서 정보 추출\n",
    "entries = extract_page_ranges(index_text)\n",
    "\n",
    "# 결과 출력\n",
    "print(\"페이지별 내용:\")\n",
    "for entry in sorted(entries, key=lambda x: x['page']):  # 페이지 순으로 정렬\n",
    "    print(f\"\\n페이지 {entry['page']}:\")\n",
    "    print(f\"제목: {entry['title']}\")"
   ]
  },
  {
   "cell_type": "code",
   "execution_count": null,
   "metadata": {},
   "outputs": [],
   "source": []
  }
 ],
 "metadata": {
  "kernelspec": {
   "display_name": "yolov8",
   "language": "python",
   "name": "python3"
  },
  "language_info": {
   "codemirror_mode": {
    "name": "ipython",
    "version": 3
   },
   "file_extension": ".py",
   "mimetype": "text/x-python",
   "name": "python",
   "nbconvert_exporter": "python",
   "pygments_lexer": "ipython3",
   "version": "3.9.19"
  }
 },
 "nbformat": 4,
 "nbformat_minor": 2
}
